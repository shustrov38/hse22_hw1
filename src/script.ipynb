{
 "cells": [
  {
   "cell_type": "code",
   "execution_count": 17,
   "metadata": {},
   "outputs": [],
   "source": [
    "from typing import Tuple, List\n",
    "import re"
   ]
  },
  {
   "cell_type": "markdown",
   "metadata": {},
   "source": [
    "# Основная часть"
   ]
  },
  {
   "cell_type": "code",
   "execution_count": 18,
   "metadata": {},
   "outputs": [],
   "source": [
    "def get_info(filename: str, analysys_header: str='', show: bool=True) -> List[str]:    \n",
    "    sequences = []\n",
    "    total_len = 0\n",
    "    num = 0\n",
    "    max_len = 0\n",
    "    length = 0\n",
    "    score = 0\n",
    "    curr_sequence = ''\n",
    "\n",
    "    with open(filename, 'r') as fin:\n",
    "        for line in fin:\n",
    "            if (line[0] == '>'):\n",
    "                if num != 0:\n",
    "                    sequences.append(curr_sequence)\n",
    "                num += 1\n",
    "                if length >= max_len:\n",
    "                    max_len = length\n",
    "                curr_sequence = ''\n",
    "                length = 0\n",
    "            else:\n",
    "                curr_sequence += line.strip()\n",
    "                length += len(line.strip())\n",
    "                total_len += len(line.strip())\n",
    "     \n",
    "    for seq in sorted(sequences, reverse=True, key=lambda x: len(x)):\n",
    "        i = len(seq)\n",
    "        score += i\n",
    "        if score >= total_len / 2:\n",
    "            if show == True:\n",
    "                print(f'=== {analysys_header}')\n",
    "                print(f'Общее количество: {num}')\n",
    "                print(f'Общая длина: {total_len}')\n",
    "                print(f'Длина самого длинного: {max_len}')\n",
    "                print(f'N50: {i}\\n')\n",
    "            break\n",
    "    return sequences"
   ]
  },
  {
   "cell_type": "code",
   "execution_count": 19,
   "metadata": {},
   "outputs": [],
   "source": [
    "PATH_TO_PLATANUS = './../platanus'"
   ]
  },
  {
   "cell_type": "code",
   "execution_count": 20,
   "metadata": {},
   "outputs": [
    {
     "name": "stdout",
     "output_type": "stream",
     "text": [
      "=== Анализ контигов\n",
      "Общее количество: 599\n",
      "Общая длина: 3924112\n",
      "Длина самого длинного: 179307\n",
      "N50: 52799\n",
      "\n"
     ]
    }
   ],
   "source": [
    "contigs = get_info(f'{PATH_TO_PLATANUS}/Poil_contig.fa', analysys_header='Анализ контигов')"
   ]
  },
  {
   "cell_type": "code",
   "execution_count": 21,
   "metadata": {},
   "outputs": [
    {
     "name": "stdout",
     "output_type": "stream",
     "text": [
      "=== Анализ скаффолдов\n",
      "Общее количество: 71\n",
      "Общая длина: 3873818\n",
      "Длина самого длинного: 3834505\n",
      "N50: 3834505\n",
      "\n"
     ]
    }
   ],
   "source": [
    "scaffolds = get_info(f'{PATH_TO_PLATANUS}/Poil_scaffold.fa', analysys_header='Анализ скаффолдов')"
   ]
  },
  {
   "cell_type": "code",
   "execution_count": 22,
   "metadata": {},
   "outputs": [],
   "source": [
    "def get_gap_count(sequence: str, type: str) -> Tuple[int, int]:\n",
    "    total_gap_length = sequence.count('N')\n",
    "    print(f'Общая длина гэпов [{type}]: {total_gap_length}')\n",
    "    sequence_sub = re.sub(r'N{2,}', 'N', sequence)\n",
    "    total_gap_count = sequence_sub.count('N')\n",
    "    print(f'Число гэпов: {total_gap_count}')\n",
    "    return total_gap_length, total_gap_count"
   ]
  },
  {
   "cell_type": "code",
   "execution_count": 23,
   "metadata": {},
   "outputs": [
    {
     "name": "stdout",
     "output_type": "stream",
     "text": [
      "Общая длина гэпов [не обрезанные чтения]: 5799\n",
      "Число гэпов: 60\n"
     ]
    }
   ],
   "source": [
    "gap_length, gap_count = get_gap_count(scaffolds[0], 'не обрезанные чтения')"
   ]
  },
  {
   "cell_type": "code",
   "execution_count": 24,
   "metadata": {},
   "outputs": [],
   "source": [
    "scaffolds_gap_closed = get_info(f'{PATH_TO_PLATANUS}/Poil_gapClosed.fa', show=False)"
   ]
  },
  {
   "cell_type": "code",
   "execution_count": 25,
   "metadata": {},
   "outputs": [
    {
     "name": "stdout",
     "output_type": "stream",
     "text": [
      "Общая длина гэпов [обрезанные чтения]: 1606\n",
      "Число гэпов: 8\n"
     ]
    }
   ],
   "source": [
    "gap_length_closed, gap_count_closed = get_gap_count(scaffolds_gap_closed[0], 'обрезанные чтения')"
   ]
  },
  {
   "cell_type": "code",
   "execution_count": 26,
   "metadata": {},
   "outputs": [],
   "source": [
    "# save data\n",
    "\n",
    "with open('./../data/contigs.fasta', 'w') as configs_file:\n",
    "        for contig in contigs:\n",
    "            configs_file.write(contig)\n",
    "            configs_file.write('\\n')\n",
    "\n",
    "with open('./../data/scaffolds.fasta', 'w') as scaffolds_file:\n",
    "    for scaffold in scaffolds_gap_closed:\n",
    "        scaffolds_file.write(scaffold)\n",
    "        scaffolds_file.write('\\n')\n",
    "\n",
    "with open('./../data/longest.fasta', 'w') as longest_file:\n",
    "    longest_file.write(scaffolds[0])"
   ]
  },
  {
   "cell_type": "markdown",
   "metadata": {},
   "source": [
    "# Бонусная часть"
   ]
  },
  {
   "cell_type": "code",
   "execution_count": 27,
   "metadata": {},
   "outputs": [
    {
     "name": "stdout",
     "output_type": "stream",
     "text": [
      "=== Анализ контигов [100%]\n",
      "Общее количество: 599\n",
      "Общая длина: 3924112\n",
      "Длина самого длинного: 179307\n",
      "N50: 52799\n",
      "\n"
     ]
    }
   ],
   "source": [
    "contigs = get_info(f'{PATH_TO_PLATANUS}/Poil_contig.fa', analysys_header='Анализ контигов [100%]')"
   ]
  },
  {
   "cell_type": "code",
   "execution_count": 30,
   "metadata": {},
   "outputs": [
    {
     "name": "stdout",
     "output_type": "stream",
     "text": [
      "=== Анализ контигов [10%]\n",
      "Общее количество: 3442\n",
      "Общая длина: 3918532\n",
      "Длина самого длинного: 27955\n",
      "N50: 4095\n",
      "\n"
     ]
    }
   ],
   "source": [
    "contigs = get_info(f'{PATH_TO_PLATANUS}/Poil_contig_small.fa', analysys_header='Анализ контигов [10%]')\n"
   ]
  },
  {
   "cell_type": "code",
   "execution_count": 33,
   "metadata": {},
   "outputs": [
    {
     "name": "stdout",
     "output_type": "stream",
     "text": [
      "=== Анализ скаффолдов [100%]\n",
      "Общее количество: 71\n",
      "Общая длина: 3873818\n",
      "Длина самого длинного: 3834505\n",
      "N50: 3834505\n",
      "\n"
     ]
    }
   ],
   "source": [
    "scaffolds = get_info(f'{PATH_TO_PLATANUS}/Poil_scaffold.fa', analysys_header='Анализ скаффолдов [100%]')"
   ]
  },
  {
   "cell_type": "code",
   "execution_count": 32,
   "metadata": {},
   "outputs": [
    {
     "name": "stdout",
     "output_type": "stream",
     "text": [
      "=== Анализ скаффолдов [10%]\n",
      "Общее количество: 498\n",
      "Общая длина: 3868973\n",
      "Длина самого длинного: 1286874\n",
      "N50: 648480\n",
      "\n"
     ]
    }
   ],
   "source": [
    "scaffolds = get_info(f'{PATH_TO_PLATANUS}/Poil_scaffold_small.fa', analysys_header='Анализ скаффолдов [10%]')"
   ]
  },
  {
   "cell_type": "code",
   "execution_count": 34,
   "metadata": {},
   "outputs": [
    {
     "name": "stdout",
     "output_type": "stream",
     "text": [
      "=== \n",
      "Общее количество: 71\n",
      "Общая длина: 3917851\n",
      "Длина самого длинного: 3878222\n",
      "N50: 3878222\n",
      "\n"
     ]
    }
   ],
   "source": [
    "scaffolds_gap_closed = get_info(f'{PATH_TO_PLATANUS}/Poil_gapClosed.fa')"
   ]
  },
  {
   "cell_type": "code",
   "execution_count": 35,
   "metadata": {},
   "outputs": [
    {
     "name": "stdout",
     "output_type": "stream",
     "text": [
      "=== \n",
      "Общее количество: 498\n",
      "Общая длина: 3857779\n",
      "Длина самого длинного: 1281767\n",
      "N50: 604205\n",
      "\n"
     ]
    }
   ],
   "source": [
    "scaffolds_gap_closed = get_info(f'{PATH_TO_PLATANUS}/Poil_gapClosed_small.fa')"
   ]
  }
 ],
 "metadata": {
  "kernelspec": {
   "display_name": "Python 3.9.12 ('base')",
   "language": "python",
   "name": "python3"
  },
  "language_info": {
   "codemirror_mode": {
    "name": "ipython",
    "version": 3
   },
   "file_extension": ".py",
   "mimetype": "text/x-python",
   "name": "python",
   "nbconvert_exporter": "python",
   "pygments_lexer": "ipython3",
   "version": "3.9.12"
  },
  "orig_nbformat": 4,
  "vscode": {
   "interpreter": {
    "hash": "d60232a9cf6152197ea84021648e86f66daad0f49e08568b87931b065b333085"
   }
  }
 },
 "nbformat": 4,
 "nbformat_minor": 2
}
